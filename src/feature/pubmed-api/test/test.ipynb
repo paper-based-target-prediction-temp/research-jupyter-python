{
 "cells": [
  {
   "cell_type": "code",
   "execution_count": 9,
   "metadata": {},
   "outputs": [
    {
     "name": "stdout",
     "output_type": "stream",
     "text": [
      "10c8690df53ff619d8ce3666f8cfa71d9209\n",
      "['39641495']\n"
     ]
    }
   ],
   "source": [
    "from dotenv import load_dotenv\n",
    "import os\n",
    "import requests\n",
    "import xml.etree.ElementTree as ElementTree\n",
    "\n",
    "load_dotenv()\n",
    "\n",
    "pubmed_api_key = os.getenv(\"PUBMED_API_KEY\")\n",
    "\n",
    "search_params = {\n",
    "    \"db\": \"pubmed\",\n",
    "    \"term\": \"EGFR\",\n",
    "    \"retmax\": 1,  # 한번에 가져올 논문 개수\n",
    "    \"api_key\": pubmed_api_key\n",
    "}\n",
    "\n",
    "base_url = \"https://eutils.ncbi.nlm.nih.gov/entrez/eutils/\"\n",
    "search_response = requests.get(base_url + \"esearch.fcgi\", params=search_params)\n",
    "search_tree = ElementTree.fromstring(search_response.content)\n",
    "pmids = [id_elem.text for id_elem in search_tree.findall(\".//Id\")]\n",
    "print(pmids)\n",
    "# 2. EFetch: 논문 세부 정보 가져오기\n",
    "# fetch_params = {\n",
    "#     \"db\": \"pubmed\",\n",
    "#     \"id\": \",\".join(pmids),\n",
    "#     \"retmode\": \"xml\",\n",
    "#     \"api_key\": pubmed_api_key\n",
    "# }\n",
    "# fetch_response = requests.get(base_url + \"efetch.fcgi\", params=fetch_params)\n",
    "# fetch_data = fetch_response.content  # XML 데이터\n",
    "# print(fetch_data)"
   ]
  },
  {
   "cell_type": "code",
   "execution_count": 4,
   "metadata": {},
   "outputs": [
    {
     "data": {
      "text/plain": [
       "['39641495']"
      ]
     },
     "execution_count": 4,
     "metadata": {},
     "output_type": "execute_result"
    }
   ],
   "source": [
    "pmids"
   ]
  },
  {
   "cell_type": "code",
   "execution_count": null,
   "metadata": {},
   "outputs": [],
   "source": [
    "base_url = \"https://eutils.ncbi.nlm.nih.gov/entrez/eutils/\"\n"
   ]
  },
  {
   "cell_type": "code",
   "execution_count": 5,
   "metadata": {},
   "outputs": [],
   "source": [
    "import re\n",
    "from urllib.request import urlretrieve\n",
    "\n",
    "def get_pmid_list(pubmed_search_result_file):\n",
    "    if os.path.exists(pubmed_search_result_file) == False: return [];\n",
    "    f = open(pubmed_search_result_file);\n",
    "    pmid_list = [];\n",
    "    for line in f:\n",
    "        m = re.search('<Id>(.*?)</Id>',line);\n",
    "        if m:\n",
    "            pmid = m.group(1);\n",
    "            pmid_list.append(pmid);\n",
    "            continue;\n",
    "        m = re.search('</IdList>', line);\n",
    "        if m:\n",
    "            break;\n",
    "   \n",
    "    return pmid_list;\n",
    "\n",
    "def fetch_article_information(PMID, dest_file_name):\n",
    "    PMIDLink = \"http://eutils.ncbi.nlm.nih.gov/entrez/eutils/efetch.fcgi?db=pubmed&id=\";\n",
    "    PMIDLink += PMID;\n",
    "    PMIDLink += \"&retmode=xml\";\n",
    "    urlretrieve(PMIDLink, dest_file_name);\n",
    "    return 1;"
   ]
  },
  {
   "cell_type": "code",
   "execution_count": 8,
   "metadata": {},
   "outputs": [],
   "source": [
    "search_text = 'abc'\n",
    "search_params = {\n",
    "    \"db\": \"pubmed\",\n",
    "    \"term\": search_text,\n",
    "    \"retmax\": 1000,\n",
    "    \"api_key\": pubmed_api_key\n",
    "}\n",
    "search_address = base_url + \"esearch.fcgi?\" + \"&\".join([f\"{k}={v}\" for k, v in search_params.items()])\n",
    "result = urlretrieve(search_address, 'pub_search_with_term.txt');\n",
    "search_pmid = get_pmid_list('pub_search_with_term.txt');"
   ]
  },
  {
   "cell_type": "code",
   "execution_count": null,
   "metadata": {},
   "outputs": [],
   "source": []
  }
 ],
 "metadata": {
  "kernelspec": {
   "display_name": "bio-research",
   "language": "python",
   "name": "python3"
  },
  "language_info": {
   "codemirror_mode": {
    "name": "ipython",
    "version": 3
   },
   "file_extension": ".py",
   "mimetype": "text/x-python",
   "name": "python",
   "nbconvert_exporter": "python",
   "pygments_lexer": "ipython3",
   "version": "3.11.10"
  }
 },
 "nbformat": 4,
 "nbformat_minor": 2
}
